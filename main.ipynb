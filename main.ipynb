{
  "cells": [
    {
      "cell_type": "code",
      "execution_count": 16,
      "metadata": {},
      "outputs": [],
      "source": [
        "def read_file(file_path):\n",
        "    try:\n",
        "        with open(file_path, 'r') as file:\n",
        "            contents = file.read()\n",
        "            print(contents)\n",
        "    except Exception as e:\n",
        "        print(f\"An error occurred: {e}\")"
      ]
    },
    {
      "cell_type": "markdown",
      "metadata": {},
      "source": [
        "1. Process the citation.txt input file and output the number of papers published in each decade: 1970s, 1980s, 1990s, 2000s, 2010s, and 2020s."
      ]
    },
    {
      "cell_type": "code",
      "execution_count": 17,
      "metadata": {
        "colab": {
          "base_uri": "https://localhost:8080/"
        },
        "id": "nA5qoVX818PY",
        "outputId": "b01e346b-712b-4e1d-a79a-c02ee403bbe3"
      },
      "outputs": [
        {
          "name": "stdout",
          "output_type": "stream",
          "text": [
            "Writing rc1.py\n"
          ]
        }
      ],
      "source": [
        "%%file rc1.py\n",
        "from mrjob.job import MRJob\n",
        "from mrjob.step import MRStep\n",
        "\n",
        "class MRjob_assignment1(MRJob):\n",
        "    def map_decades(self, _, data):\n",
        "        paper_info = {'title': None, 'authors': None, 'year': None, 'venue': None, 'index_id': None}\n",
        "        records = data.split('#')\n",
        "\n",
        "        for record in records:\n",
        "            if record.startswith('*'):\n",
        "                paper_info['title'] = record[1:].strip() if len(record) > 0 else None\n",
        "            elif record.startswith(\"t\"):\n",
        "                paper_info['year'] = int(record[1:].strip()) if len(record) > 1 else None\n",
        "\n",
        "        if paper_info['year'] is not None:\n",
        "            decade = (paper_info['year'] // 10) * 10\n",
        "            yield (decade, 1)\n",
        "\n",
        "    def combiner_decades(self, decade, counts):\n",
        "        yield (decade, sum(counts))\n",
        "\n",
        "    def reducer_decades(self, decade, counts):\n",
        "        yield (decade, sum(counts))\n",
        "\n",
        "    def steps(self):\n",
        "        return [\n",
        "            MRStep(\n",
        "                mapper=self.map_decades,\n",
        "                combiner=self.combiner_decades,\n",
        "                reducer=self.reducer_decades\n",
        "            )]\n",
        "\n",
        "if __name__ == '__main__':\n",
        "    MRjob_assignment1.run()\n"
      ]
    },
    {
      "cell_type": "code",
      "execution_count": null,
      "metadata": {
        "colab": {
          "base_uri": "https://localhost:8080/"
        },
        "id": "Y1QT3tzt3jTu",
        "outputId": "9a955ae9-a35d-4b92-f43f-774b54834047"
      },
      "outputs": [],
      "source": [
        "!python rc1.py citation.txt > out1.txt"
      ]
    },
    {
      "cell_type": "code",
      "execution_count": 19,
      "metadata": {},
      "outputs": [
        {
          "name": "stdout",
          "output_type": "stream",
          "text": [
            "output of job1 : \n",
            "\n",
            "1970\t4\n",
            "1980\t3\n",
            "1990\t11\n",
            "2000\t82\n",
            "\n"
          ]
        }
      ],
      "source": [
        "print('output of job1 : \\n')\n",
        "read_file('out1.txt')"
      ]
    },
    {
      "cell_type": "markdown",
      "metadata": {},
      "source": [
        "2. Create an inverted index of the citation file. Your inverted index will output the year followed by the comma-separated list of the titles of the papers published in that year."
      ]
    },
    {
      "cell_type": "code",
      "execution_count": 20,
      "metadata": {
        "colab": {
          "base_uri": "https://localhost:8080/"
        },
        "id": "wpAVxKAtApXT",
        "outputId": "786a09a9-df3a-42b9-f813-ef22134fb781"
      },
      "outputs": [
        {
          "name": "stdout",
          "output_type": "stream",
          "text": [
            "Writing rc2.py\n"
          ]
        }
      ],
      "source": [
        "%%file rc2.py\n",
        "from mrjob.job import MRJob\n",
        "from mrjob.step import MRStep\n",
        "\n",
        "class MRjob_assignment2(MRJob):\n",
        "    def map_index(self, _, data):\n",
        "        paper_info = {'title': None, 'authors': None, 'year': None, 'venue': None, 'index_id': None}\n",
        "        records = data.split('#')\n",
        "\n",
        "        for record in records:\n",
        "            if record.startswith('*'):\n",
        "                paper_info['title'] = record[1:].strip() if len(record) > 0 else None\n",
        "            elif record.startswith(\"t\"):\n",
        "                paper_info['year'] = int(record[1:].strip()) if len(record) > 1 else None\n",
        "\n",
        "        if paper_info['year'] is not None:\n",
        "            title = paper_info['title']\n",
        "            year = paper_info['year']\n",
        "            yield (year, title)\n",
        "\n",
        "    def combiner_index(self, year, titles):\n",
        "        titles_list = list(titles)\n",
        "        filtered_titles = [title for title in titles_list if title is not None]\n",
        "        yield year, ', '.join(filtered_titles)\n",
        "\n",
        "    def reducer_index(self, year, filtered_titles):\n",
        "        final_titles = [title for title in filtered_titles if title is not None]\n",
        "        yield year, ', '.join(final_titles)\n",
        "\n",
        "    def steps(self):\n",
        "        return [\n",
        "            MRStep(\n",
        "                mapper=self.map_index,\n",
        "                combiner=self.combiner_index,\n",
        "                reducer=self.reducer_index\n",
        "            )\n",
        "        ]\n",
        "\n",
        "if __name__ == '__main__':\n",
        "    MRjob_assignment2.run()\n"
      ]
    },
    {
      "cell_type": "code",
      "execution_count": null,
      "metadata": {
        "colab": {
          "base_uri": "https://localhost:8080/"
        },
        "id": "YtG9_8xABd1Z",
        "outputId": "c70d087e-bde1-45fd-f434-afb873509704"
      },
      "outputs": [],
      "source": [
        "!python rc2.py citation.txt > out2.txt"
      ]
    },
    {
      "cell_type": "code",
      "execution_count": 22,
      "metadata": {},
      "outputs": [
        {
          "name": "stdout",
          "output_type": "stream",
          "text": [
            "Output of job 2 : \n",
            "\n",
            "1973\t\"Notes from industry\"\n",
            "1975\t\"A control word model for detecting conflicts between microoperations\"\n",
            "1976\t\"Microprogramming for the hardware engineer\"\n",
            "1978\t\"Design team composition for high level language computer architectures\"\n",
            "1982\t\"Review of \\\"Bit-Slice Microprocessor Design by John Mick and James Brick\\\", McGraw-Hill Book Company, 1980\"\n",
            "1985\t\"Word Processing on Your MacIntosh\"\n",
            "1987\t\"Type Graphics and MacIntosh\"\n",
            "1991\t\"Tarski's World 3.0: Including the Macintosh TM Program (Center for the Study of Language and Information - Lecture Notes)\"\n",
            "1993\t\"Hyperstat: Macintosh Hypermedia for Analyzing Data and Learning Statistics\"\n",
            "1994\t\"At Ease With Performa, It's a Mad, Mad, Mad, Mad Mac/Book and Disk, Operations Research: Macintosh Version (Business Statistics Series)\"\n",
            "1995\t\"Internet and HTML Training on CD-ROM\"\n",
            "1996\t\"Fast k-NN Classification Rule Using Metrics on Space-Filling Curves, A New Quadtree Decomposition Reconstruction Method\"\n",
            "1997\t\"Multimedia Directory 1997, Elsevier's Dictionary of Wild and Cultivated Plants\"\n",
            "1999\t\"Electronic Engineer's Handbook (Core Handbook CD-ROMs)\"\n",
            "2000\t\"Exploring Macintosh Concepts in Visually Oriented Computing & Computing Concepts for End Users, Tips and Tuning Guide for MS Flight Simulator 2000\"\n",
            "2001\t\"Conker's Bad Fur Day (Prima's Official Strategy Guide)\"\n",
            "2002\t\"ECDL Advanced\"\n",
            "2003\t\"A+ Certification Core Hardware (Text & Lab Manual), Start with a Digital Camera (Special Edition) (2nd Edition) (Start with a), Guia Visual de Microsoft Office 2000/ Microsoft Office 2000 Visual Guide (Guias Visuales), KeyChamp 2.0 Macintosh Site License Package\"\n",
            "2004\t\"Program Evaluation: Improving The Flow Of Information To The Congress, ExamInsight For MCP / MCSE Certification: Installing, Configuring, and Administering Microsoft Windows XP Professional Exam 70-270 (ExamInsight), Ibook Fan Book: Smart and Beautiful to Boot (Ibook Fan Books), GO Series: Microsoft Excel 2003 Volume 2 (Go With Microsoft Office), Data Structures, Adaptive Multimedia Retrieval: First International Workshop, AMR 2003, Hamburg, Germany, September 15-16, 2003, Revised Selected and Invited Papers (Lecture Notes in Computer Science), The Prentice Hall Planner for Student Success, Keno Winner: A Guide To Winning At Video Keno, Microsoft Powerpoint 2003 (Marquee Series)\"\n",
            "2005\t\"Dude, You Can Do It! How to Build a Sweeet PC, Linspire 5.0: The No Nonsense Guide! (No Nonsense Guide! series), Federated Identity Management And Web Services Security With IBM Tivoli Security Solutions, Open Process Frameworks: Patterns for the Adaptive e-Enterprise (Practitioners), ASIS&T Thesaurus of Information Science, Technology, And Librarianship (Asist Monograph Series), Call of Duty 2: Big Red One(tm) Official Strategy Guide (Official Strategy Guides), Special Edition Using Adobe Creative Suite 2 (Special Edition Using), Computer Models of Musical Creativity, Microsoft Word 2003 Advanced, Gungrave: 2006 Wall Calendar, Essentials for Design Adobe Illustrator CS 2 - Level 1 (2nd Edition) (Essentials for Design), The Game Producer's Handbook, Visual Basic 2005 Demystified, 1 edition, Oracle 10g PL/SQL: Guia de Consulta R\\u00e1pida\"\n",
            "2006\t\"Automated Deduction in Geometry, What Every Programmer Needs to Know about Security (Advances in information Security), Interpreting Kullback-Leibler divergence with the Neyman-earson lemma, Digital Media: Transformations in Human Communication, Adaptive Hypermedia and Adaptive Web-Based Systems, Approximating fluid schedules in crossbar packet-switches and Banyan networks, Inside Microsoft Dynamics AX 4.0, Wiley Plus/Web CT Stand-alone to accompany Java Concepts (Wiley Plus Products), Modeling methodology b: distributed simulation and the high level architecture, Beginning Ruby on Rails (Wrox Beginning Guides), SUSE Linux Enterprise Server Administration (Course 3037), An Integrative Modelling Approach for Simulation and Analysis of Adaptive Agents, Computer Accounting with QuickBooks 2006, Class-specific feature polynomial classifier for pattern classification and its application to handwritten numeral recognition, F.E.A.R.: First Encounter Assault Recon (Prima Official Game Guide), Effects of reward expectancy on sequential eye movements in monkeys, Computer Concepts Illustrated Complete, Sixth Edition (Illustrated (Thompson Learning)), Windows Vista All-in-One Desk Reference For Dummies (For Dummies (Computer/Tech)), DV Filmmaking: From Start to Finish (O'Reilly Digital Studio), Hands-On Guide to Video Blogging and Podcasting: Emerging Media Tools for Business Communication (Hands-on Guide), Mage Knight(tm): Apocalypse Official Strategy Guide (Official Strategy Guides), The Effect of Faults on Network Expansion, Mesoscopic simulation of Ostwald ripening, Gurus, Hired Guns, and Warm Bodies: Itinerant Experts in a Knowledge Economy, Selected Areas in Cryptography: 12th International Workshop, SAC 2005, Kingston, ON, Canada, August 11-12, 2005, Revised Selected Papers (Lecture Notes in Computer Science), Real World Aperture (Real World), Making Projects Critical (Management, Work and Organisations), Three-Level Caching for Efficient Query Processing in Large Web Search Engines, Creative Code: \\u00c4sthetik und Programmierung am MIT Media Lab, On an initial transient deletion rule with rigorous theoretical support, MICAI 2006: Advances in Artificial Intelligence: 5th Mexican International Conference on Artificial IntelligenceApizaco, Mexico, November 13-17, 2006Proceedings (Lecture Notes in Computer Science), Special issue: Dialog systems for health communications\"\n",
            "2007\t\"Performance engineering in industry: current practices and adoption challenges, TOPP---the OpenMS proteomics pipeline, Webbots, Spiders, and Screen Scrapers, Podcasting for Profit: A Proven 10-Step Plan for Generating Income Through Audio and Video Podcasting, Introduction to Information Systems, , A method to compute distance between two categorical values of same attribute in unsupervised learning for categorical data set, Database Modeling in Biology: Practices and Challenges, The Internet: A Critical Introduction, Java for Everyone, CompTIA A+ Exam Cram (Exams 220-602, 220-603, 220-604) (Exam Cram)\"\n",
            "\n"
          ]
        }
      ],
      "source": [
        "print('Output of job 2 : \\n')\n",
        "read_file('out2.txt')"
      ]
    },
    {
      "cell_type": "markdown",
      "metadata": {},
      "source": [
        "3. Produce a list of co-authors of each author in the given input file."
      ]
    },
    {
      "cell_type": "code",
      "execution_count": 23,
      "metadata": {
        "colab": {
          "base_uri": "https://localhost:8080/"
        },
        "id": "24E5f-D6vqJm",
        "outputId": "c82d4976-1e48-4838-f78e-9b84d5711a46"
      },
      "outputs": [
        {
          "name": "stdout",
          "output_type": "stream",
          "text": [
            "Writing rc3.py\n"
          ]
        }
      ],
      "source": [
        "%%file rc3.py\n",
        "from mrjob.job import MRJob\n",
        "from mrjob.step import MRStep\n",
        "\n",
        "class MRjob_assignment3(MRJob):\n",
        "    def map_coauthors(self, _, data):\n",
        "        paper_info = {'title': None, 'authors': None, 'year': None, 'venue': None, 'index_id': None}\n",
        "        records = data.split('#')\n",
        "\n",
        "        for record in records:\n",
        "            if record.startswith(\"@\"):\n",
        "                paper_info['authors'] = record[1:].strip() if len(record) > 0 else None\n",
        "            \n",
        "        if paper_info['authors'] is not None:\n",
        "            authors = paper_info['authors'].split(',')\n",
        "            for i in range(len(authors)):\n",
        "                for j in range(i + 1, len(authors)):\n",
        "                    yield (authors[i].strip(), authors[j].strip())\n",
        "                    yield (authors[j].strip(), authors[i].strip())\n",
        "\n",
        "    def reducer_coauthors(self, author, coauthors):\n",
        "        coauthors_set = set(coauthors)\n",
        "        yield author, list(coauthors_set)\n",
        "\n",
        "    def steps(self):\n",
        "        return [\n",
        "            MRStep(\n",
        "                mapper=self.map_coauthors,\n",
        "                reducer=self.reducer_coauthors\n",
        "            )\n",
        "        ]\n",
        "\n",
        "if __name__ == '__main__':\n",
        "    MRjob_assignment3.run()\n"
      ]
    },
    {
      "cell_type": "code",
      "execution_count": null,
      "metadata": {
        "colab": {
          "base_uri": "https://localhost:8080/"
        },
        "id": "ktHgi6C-vuNW",
        "outputId": "e2f69e82-6dc1-45dc-bc91-59f2b74e57e7"
      },
      "outputs": [],
      "source": [
        "!python rc3.py citation.txt > out3.txt"
      ]
    },
    {
      "cell_type": "code",
      "execution_count": 25,
      "metadata": {},
      "outputs": [
        {
          "name": "stdout",
          "output_type": "stream",
          "text": [
            "Output of job 3 : \n",
            "\n",
            "\"A. Krzyzak\"\t[\"E. Skubalska-Rafajtowicz\"]\n",
            "\"Ahmed Hassan\"\t[\"Parminder Flora\"]\n",
            "\"Alex Galis\"\t[\"Arto Tapani Juhola\", \"Danny Raz\", \"Joan Serrat-Fernandez\"]\n",
            "\"Alexander Gelbukh\"\t[\"Carlos Alberto Reyes-Garcia\"]\n",
            "\"Alice Redmond-neal\"\t[\"Marjorie M. K. Hlava\"]\n",
            "\"Aline Maria Santos Andrade\"\t[\"Carlos Alberto Maziero\", \"Fl\\u00e1vio Morais de Assis Silva\", \"Jo\\u00e3o Gabriel Silva\"]\n",
            "\"Amir Ahmad\"\t[\"Lipika Dey\"]\n",
            "\"Amitabh Chaudhary\"\t[\"Christian Scheideler\", \"Ankur Bhargava\", \"Amitabha Bagchi\", \"David Eppstein\"]\n",
            "\"Amitabha Bagchi\"\t[\"Christian Scheideler\", \"Ankur Bhargava\", \"David Eppstein\", \"Amitabh Chaudhary\"]\n",
            "\"Andreas N\\u00fcrnberger\"\t[\"Marcin Detyniecki\"]\n",
            "\"Anita Kesavan\"\t[\"Neil Daswani\"]\n",
            "\"Ankur Bhargava\"\t[\"Christian Scheideler\", \"Amitabha Bagchi\", \"David Eppstein\", \"Amitabh Chaudhary\"]\n",
            "\"Arthur Greef\"\t[\"Hans J. Skovgaard\", \"Lars Dragheim Olsen\", \"Michael Fruergaard Pontoppidan\", \"Palle Agermark\"]\n",
            "\"Arto Tapani Juhola\"\t[\"Danny Raz\", \"Joan Serrat-Fernandez\", \"Alex Galis\"]\n",
            "\"Barry Smyth\"\t[\"Vincent Wade\", \"Helen Ashman\"]\n",
            "\"Brenden Munnelly\"\t[\"Paul Holden\"]\n",
            "\"Bruce Shriver\"\t[\"Ted Lewis\"]\n",
            "\"Carlito Vicencio\"\t[\"Darrel Creacy\"]\n",
            "\"Carlos Alberto Maziero\"\t[\"Fl\\u00e1vio Morais de Assis Silva\", \"Jo\\u00e3o Gabriel Silva\", \"Aline Maria Santos Andrade\"]\n",
            "\"Carlos Alberto Reyes-Garcia\"\t[\"Alexander Gelbukh\"]\n",
            "\"Catholijn M. Jonker\"\t[\"Jan Treur\", \"Tibor Bosse\"]\n",
            "\"Charles S. Wetherell\"\t[\"Jr.\", \"Lyle A. Cox\", \"James R. McGraw\"]\n",
            "\"Cheng-Lin Liu\"\t[\"Hiroshi Sako\"]\n",
            "\"Christian Scheideler\"\t[\"Ankur Bhargava\", \"Amitabha Bagchi\", \"David Eppstein\", \"Amitabh Chaudhary\"]\n",
            "\"Clemens Gr\\u00f6pl\"\t[\"Ole Schulz-Trieglaff\", \"Knut Reinert\", \"Oliver Kohlbacher\", \"Nico Pfeifer\", \"Eva Lange\", \"Marc Sturm\"]\n",
            "\"Constantine Caramanis\"\t[\"Vahid Tarokh\", \"Michel X. Goemans\", \"Michael Rosenblum\"]\n",
            "\"Daeyeol Lee\"\t[\"Jeong-woo Sohn\"]\n",
            "\"Damian Hodgson\"\t[\"Svetlana Cicmil\"]\n",
            "\"Damien Stolarz\"\t[\"Lionel Felix\"]\n",
            "\"Dan Oja\"\t[\"June Jamrich Parsons\"]\n",
            "\"Danny Raz\"\t[\"Arto Tapani Juhola\", \"Joan Serrat-Fernandez\", \"Alex Galis\"]\n",
            "\"Darrel Creacy\"\t[\"Carlito Vicencio\"]\n",
            "\"David Eppstein\"\t[\"Christian Scheideler\", \"Ankur Bhargava\", \"Amitabha Bagchi\", \"Amitabh Chaudhary\"]\n",
            "\"Denise Seguin\"\t[\"Nita Hewitt Rutkosky\"]\n",
            "\"Dima Sonkin\"\t[\"Michael Raheem\", \"Thierry D'Hers\", \"Kami LeMonds\"]\n",
            "\"Dongming Wang\"\t[\"Hoon Hong\"]\n",
            "\"E. Skubalska-Rafajtowicz\"\t[\"A. Krzyzak\"]\n",
            "\"Eva Lange\"\t[\"Ole Schulz-Trieglaff\", \"Knut Reinert\", \"Clemens Gr\\u00f6pl\", \"Oliver Kohlbacher\", \"Nico Pfeifer\", \"Marc Sturm\"]\n",
            "\"Fenghui Zhang\"\t[\"Jianer Chen\"]\n",
            "\"Fl\\u00e1vio Morais de Assis Silva\"\t[\"Carlos Alberto Maziero\", \"Jo\\u00e3o Gabriel Silva\", \"Aline Maria Santos Andrade\"]\n",
            "\"Gideon Kunda\"\t[\"Stephen R. Barley\"]\n",
            "\"Hans J. Skovgaard\"\t[\"Arthur Greef\", \"Lars Dragheim Olsen\", \"Michael Fruergaard Pontoppidan\", \"Palle Agermark\"]\n",
            "\"Helen Ashman\"\t[\"Vincent Wade\", \"Barry Smyth\"]\n",
            "\"Hernan P. Awad\"\t[\"Peter W. Glynn\"]\n",
            "\"Hiroshi Sako\"\t[\"Cheng-Lin Liu\"]\n",
            "\"Hoon Hong\"\t[\"Dongming Wang\"]\n",
            "\"J. Knipe\"\t[\"X. Li\"]\n",
            "\"Jake Chen\"\t[\"Zongmin Ma\"]\n",
            "\"James R. McGraw\"\t[\"Charles S. Wetherell\", \"Jr.\", \"Lyle A. Cox\"]\n",
            "\"Jan Treur\"\t[\"Catholijn M. Jonker\", \"Tibor Bosse\"]\n",
            "\"Jeong-woo Sohn\"\t[\"Daeyeol Lee\"]\n",
            "\"Jianer Chen\"\t[\"Fenghui Zhang\"]\n",
            "\"Jo\\u00e3o Gabriel Silva\"\t[\"Carlos Alberto Maziero\", \"Fl\\u00e1vio Morais de Assis Silva\", \"Aline Maria Santos Andrade\"]\n",
            "\"Joan Serrat-Fernandez\"\t[\"Arto Tapani Juhola\", \"Danny Raz\", \"Alex Galis\"]\n",
            "\"John Copas\"\t[\"Shinto Eguchi\"]\n",
            "\"John Etchemendy\"\t[\"Jon Barwise\"]\n",
            "\"John Maeda\"\t[\"Red Burns\"]\n",
            "\"John Preston\"\t[\"Sally Preston\", \"Shelley Gaskin\"]\n",
            "\"Jon Barwise\"\t[\"John Etchemendy\"]\n",
            "\"Jr.\"\t[\"Charles S. Wetherell\", \"Lyle A. Cox\", \"James R. McGraw\"]\n",
            "\"June Jamrich Parsons\"\t[\"Dan Oja\"]\n",
            "\"Kami LeMonds\"\t[\"Dima Sonkin\", \"Michael Raheem\", \"Thierry D'Hers\"]\n",
            "\"Knut Reinert\"\t[\"Ole Schulz-Trieglaff\", \"Clemens Gr\\u00f6pl\", \"Oliver Kohlbacher\", \"Nico Pfeifer\", \"Eva Lange\", \"Marc Sturm\"]\n",
            "\"Lars Dragheim Olsen\"\t[\"Arthur Greef\", \"Hans J. Skovgaard\", \"Palle Agermark\", \"Michael Fruergaard Pontoppidan\"]\n",
            "\"Lee Humphreys\"\t[\"Paul Messaris\"]\n",
            "\"Lionel Felix\"\t[\"Damien Stolarz\"]\n",
            "\"Lipika Dey\"\t[\"Amir Ahmad\"]\n",
            "\"Lyle A. Cox\"\t[\"Charles S. Wetherell\", \"Jr.\", \"James R. McGraw\"]\n",
            "\"Marc Sturm\"\t[\"Knut Reinert\", \"Ole Schulz-Trieglaff\", \"Clemens Gr\\u00f6pl\", \"Oliver Kohlbacher\", \"Nico Pfeifer\", \"Eva Lange\"]\n",
            "\"Marcin Detyniecki\"\t[\"Andreas N\\u00fcrnberger\"]\n",
            "\"Marjorie M. K. Hlava\"\t[\"Alice Redmond-neal\"]\n",
            "\"Michael Fruergaard Pontoppidan\"\t[\"Arthur Greef\", \"Hans J. Skovgaard\", \"Lars Dragheim Olsen\", \"Palle Agermark\"]\n",
            "\"Michael Raheem\"\t[\"Dima Sonkin\", \"Thierry D'Hers\", \"Kami LeMonds\"]\n",
            "\"Michael Rosenblum\"\t[\"Vahid Tarokh\", \"Michel X. Goemans\", \"Constantine Caramanis\"]\n",
            "\"Michael Schrenk\"\t[\"Michael Shrenk\"]\n",
            "\"Michael Shrenk\"\t[\"Michael Schrenk\"]\n",
            "\"Michel X. Goemans\"\t[\"Constantine Caramanis\", \"Vahid Tarokh\", \"Michael Rosenblum\"]\n",
            "\"Neil Daswani\"\t[\"Anita Kesavan\"]\n",
            "\"Nico Pfeifer\"\t[\"Ole Schulz-Trieglaff\", \"Knut Reinert\", \"Clemens Gr\\u00f6pl\", \"Oliver Kohlbacher\", \"Eva Lange\", \"Marc Sturm\"]\n",
            "\"Nita Hewitt Rutkosky\"\t[\"Denise Seguin\"]\n",
            "\"Ole Schulz-Trieglaff\"\t[\"Knut Reinert\", \"Clemens Gr\\u00f6pl\", \"Oliver Kohlbacher\", \"Nico Pfeifer\", \"Eva Lange\", \"Marc Sturm\"]\n",
            "\"Oliver Kohlbacher\"\t[\"Ole Schulz-Trieglaff\", \"Knut Reinert\", \"Clemens Gr\\u00f6pl\", \"Nico Pfeifer\", \"Eva Lange\", \"Marc Sturm\"]\n",
            "\"Palle Agermark\"\t[\"Arthur Greef\", \"Hans J. Skovgaard\", \"Lars Dragheim Olsen\", \"Michael Fruergaard Pontoppidan\"]\n",
            "\"Parminder Flora\"\t[\"Ahmed Hassan\"]\n",
            "\"Paul Holden\"\t[\"Brenden Munnelly\"]\n",
            "\"Paul Messaris\"\t[\"Lee Humphreys\"]\n",
            "\"Peter W. Glynn\"\t[\"Hernan P. Awad\"]\n",
            "\"Red Burns\"\t[\"John Maeda\"]\n",
            "\"Sally Preston\"\t[\"Shelley Gaskin\", \"John Preston\"]\n",
            "\"Shelley Gaskin\"\t[\"Sally Preston\", \"John Preston\"]\n",
            "\"Shinto Eguchi\"\t[\"John Copas\"]\n",
            "\"Stephen R. Barley\"\t[\"Gideon Kunda\"]\n",
            "\"Svetlana Cicmil\"\t[\"Damian Hodgson\"]\n",
            "\"Ted Lewis\"\t[\"Bruce Shriver\"]\n",
            "\"Thierry D'Hers\"\t[\"Dima Sonkin\", \"Michael Raheem\", \"Kami LeMonds\"]\n",
            "\"Tibor Bosse\"\t[\"Catholijn M. Jonker\", \"Jan Treur\"]\n",
            "\"Torsten Suel\"\t[\"Xiaohui Long\"]\n",
            "\"Vahid Tarokh\"\t[\"Constantine Caramanis\", \"Michel X. Goemans\", \"Michael Rosenblum\"]\n",
            "\"Vincent Wade\"\t[\"Barry Smyth\", \"Helen Ashman\"]\n",
            "\"X. Li\"\t[\"J. Knipe\"]\n",
            "\"Xiaohui Long\"\t[\"Torsten Suel\"]\n",
            "\"Zongmin Ma\"\t[\"Jake Chen\"]\n",
            "\n"
          ]
        }
      ],
      "source": [
        "print('Output of job 3 : \\n')\n",
        "read_file('out3.txt')"
      ]
    },
    {
      "cell_type": "markdown",
      "metadata": {},
      "source": [
        "4. Find the average number of papers published each year."
      ]
    },
    {
      "cell_type": "code",
      "execution_count": 26,
      "metadata": {
        "colab": {
          "base_uri": "https://localhost:8080/"
        },
        "id": "pdSDV9dducot",
        "outputId": "a5144561-e063-4ff3-f902-6f3dc53b93a0"
      },
      "outputs": [
        {
          "name": "stdout",
          "output_type": "stream",
          "text": [
            "Writing rc4.py\n"
          ]
        }
      ],
      "source": [
        "%%file rc4.py\n",
        "from mrjob.job import MRJob\n",
        "from mrjob.step import MRStep\n",
        "\n",
        "class MRjob_assignment4(MRJob):\n",
        "    def map_papers(self, _, data):\n",
        "        paper_info = {'title': None, 'authors': None, 'year': None, 'venue': None, 'index_id': None}\n",
        "        records = data.split('#')\n",
        "\n",
        "        for record in records:\n",
        "            if record.startswith(\"t\"):\n",
        "                paper_info['year'] = int(record[1:].strip()) if len(record) > 1 else None\n",
        "\n",
        "        if paper_info['year'] is not None:\n",
        "            yield (paper_info['year'], 1)\n",
        "\n",
        "    def combiner_count_papers(self, year, counts):\n",
        "        yield (year, sum(counts))\n",
        "\n",
        "    def reducer_count_papers(self, year, counts):\n",
        "        yield None, (year, sum(counts))\n",
        "\n",
        "    def reducer_average_papers(self, _, year_counts):\n",
        "        total_papers = 0\n",
        "        total_years = 0\n",
        "\n",
        "        for year, count in year_counts:\n",
        "            total_papers += count\n",
        "            total_years += 1\n",
        "\n",
        "        average_papers_per_year = total_papers / total_years\n",
        "        yield \"Average Papers per Year:\", average_papers_per_year\n",
        "\n",
        "    def steps(self):\n",
        "        return [\n",
        "            MRStep(\n",
        "                mapper=self.map_papers,\n",
        "                combiner=self.combiner_count_papers,\n",
        "                reducer=self.reducer_count_papers\n",
        "            ),\n",
        "            MRStep(\n",
        "                reducer=self.reducer_average_papers\n",
        "            )\n",
        "        ]\n",
        "\n",
        "if __name__ == '__main__':\n",
        "    MRjob_assignment4.run()\n"
      ]
    },
    {
      "cell_type": "code",
      "execution_count": null,
      "metadata": {
        "colab": {
          "base_uri": "https://localhost:8080/"
        },
        "id": "eT2p9Qu6vHIX",
        "outputId": "e4ad60a2-ffcf-4a75-dd40-fcc3292990d7"
      },
      "outputs": [],
      "source": [
        "!python rc4.py citation.txt > out4.txt"
      ]
    },
    {
      "cell_type": "code",
      "execution_count": 28,
      "metadata": {},
      "outputs": [
        {
          "name": "stdout",
          "output_type": "stream",
          "text": [
            "Output of job 4 : \n",
            "\n",
            "\"Average Papers per Year:\"\t4.545454545454546\n",
            "\n"
          ]
        }
      ],
      "source": [
        "print('Output of job 4 : \\n')\n",
        "read_file('out4.txt')"
      ]
    },
    {
      "cell_type": "markdown",
      "metadata": {},
      "source": [
        "5. List the names of authors who have written the maximum number of papers."
      ]
    },
    {
      "cell_type": "code",
      "execution_count": 29,
      "metadata": {
        "colab": {
          "base_uri": "https://localhost:8080/"
        },
        "id": "kQ1iji1vwfUL",
        "outputId": "1a39580e-b7b9-42f9-ff99-cceee9ac3e37"
      },
      "outputs": [
        {
          "name": "stdout",
          "output_type": "stream",
          "text": [
            "Writing rc5.py\n"
          ]
        }
      ],
      "source": [
        "%%file rc5.py\n",
        "from mrjob.job import MRJob\n",
        "from mrjob.step import MRStep\n",
        "\n",
        "class MRJob_assignment5(MRJob):\n",
        "\n",
        "    def mapper(self, _, data):\n",
        "        records = data.split('#')\n",
        "        paper_info = {'title': None, 'authors': None, 'year': None, 'venue': None, 'index_id': None}\n",
        "\n",
        "        for record in records:\n",
        "            if record.startswith('*'):\n",
        "                paper_info['title'] = record[1:].strip() if len(record) > 0 else None\n",
        "            elif record.startswith(\"@\"):\n",
        "                paper_info['authors'] = record[1:].strip() if len(record) > 0 else None\n",
        "\n",
        "        if paper_info['authors']:\n",
        "            authors = paper_info['authors'].split(',')\n",
        "            for author in authors:\n",
        "                yield author.strip(), 1\n",
        "\n",
        "    def combiner(self, author, counts):\n",
        "        yield author, sum(counts)\n",
        "\n",
        "    def reducer(self, author, counts):\n",
        "        yield None, (author, sum(counts))\n",
        "\n",
        "    def reducer_max_authors_init(self):\n",
        "        self.max_count = 0\n",
        "        self.max_authors = []\n",
        "\n",
        "    def reducer_max_authors(self, _, author_counts):\n",
        "        for author, count in author_counts:\n",
        "            if author:\n",
        "                if count > self.max_count:\n",
        "                    self.max_count = count\n",
        "                    self.max_authors = [author]\n",
        "                elif count == self.max_count:\n",
        "                    self.max_authors.append(author)\n",
        "\n",
        "    def reducer_max_authors_final(self):\n",
        "        if self.max_authors:\n",
        "            yield (self.max_authors, self.max_count)\n",
        "\n",
        "    def steps(self):\n",
        "        return [\n",
        "            MRStep(\n",
        "                mapper=self.mapper,\n",
        "                combiner=self.combiner,\n",
        "                reducer=self.reducer\n",
        "            ),\n",
        "            MRStep(\n",
        "                reducer_init=self.reducer_max_authors_init,\n",
        "                reducer=self.reducer_max_authors,\n",
        "                reducer_final=self.reducer_max_authors_final\n",
        "            )\n",
        "        ]\n",
        "\n",
        "if __name__ == '__main__':\n",
        "    MRJob_assignment5.run()\n"
      ]
    },
    {
      "cell_type": "code",
      "execution_count": null,
      "metadata": {
        "colab": {
          "base_uri": "https://localhost:8080/"
        },
        "id": "lhKmgL2zw0lk",
        "outputId": "c1502fbb-1849-4c1e-e541-90d4acc2440b"
      },
      "outputs": [],
      "source": [
        "!python rc5.py citation.txt > out5.txt"
      ]
    },
    {
      "cell_type": "code",
      "execution_count": 31,
      "metadata": {},
      "outputs": [
        {
          "name": "stdout",
          "output_type": "stream",
          "text": [
            "Output of job 5 : \n",
            "\n",
            "[\"Cay S. Horstmann\", \"Charles J. Brooks\"]\t2\n",
            "\n"
          ]
        }
      ],
      "source": [
        "print('Output of job 5 : \\n')\n",
        "read_file('out5.txt')"
      ]
    },
    {
      "cell_type": "markdown",
      "metadata": {},
      "source": [
        "6. Find the names of authors who have written at most one paper in a year."
      ]
    },
    {
      "cell_type": "code",
      "execution_count": 32,
      "metadata": {
        "colab": {
          "base_uri": "https://localhost:8080/"
        },
        "id": "BGY2usa06gjX",
        "outputId": "bda42785-0027-40ea-8d6d-2b8e4faeec13"
      },
      "outputs": [
        {
          "name": "stdout",
          "output_type": "stream",
          "text": [
            "Overwriting rc6.py\n"
          ]
        }
      ],
      "source": [
        "%%file rc6.py\n",
        "from mrjob.job import MRJob\n",
        "from mrjob.step import MRStep\n",
        "\n",
        "class MRJob_assignment6(MRJob):\n",
        "\n",
        "    def mapper(self, _, data):\n",
        "        records = data.split('#')\n",
        "        paper_info = {'title': None, 'authors': None, 'year': None, 'venue': None, 'index_id': None}\n",
        "\n",
        "        for record in records:\n",
        "            if record.startswith(\"@\"):\n",
        "                paper_info['authors'] = record[1:].strip() if len(record) > 0 else None\n",
        "            elif record.startswith(\"t\"):\n",
        "                paper_info['year'] = int(record[1:].strip()) if len(record) > 1 else None\n",
        "\n",
        "        if paper_info['authors']:\n",
        "            authors = paper_info['authors'].split(',')\n",
        "            for author in authors:\n",
        "                yield (paper_info['year'], author.strip()), 1\n",
        "\n",
        "    def combiner(self, year_author, counts):\n",
        "        yield year_author, sum(counts)\n",
        "\n",
        "    def reducer(self, year_author, counts):\n",
        "        total_count = sum(counts)\n",
        "        year, author = year_author\n",
        "        if total_count == 1:\n",
        "            yield year, author\n",
        "\n",
        "    def steps(self):\n",
        "        return [\n",
        "            MRStep(\n",
        "                mapper=self.mapper,\n",
        "                combiner=self.combiner,\n",
        "                reducer=self.reducer\n",
        "            )\n",
        "        ]\n",
        "\n",
        "if __name__ == '__main__':\n",
        "    MRJob_assignment6.run()\n"
      ]
    },
    {
      "cell_type": "code",
      "execution_count": null,
      "metadata": {
        "colab": {
          "base_uri": "https://localhost:8080/"
        },
        "id": "sHxRu-Yw6j3-",
        "outputId": "be9f8551-1885-4c87-9a95-02095d2b6502"
      },
      "outputs": [],
      "source": [
        "!python rc6.py citation.txt > out6.txt"
      ]
    },
    {
      "cell_type": "code",
      "execution_count": 34,
      "metadata": {},
      "outputs": [
        {
          "name": "stdout",
          "output_type": "stream",
          "text": [
            "Output of job 6 : \n",
            "\n",
            "1973\t\"Stanley Habib\"\n",
            "1975\t\"Bruce Shriver\"\n",
            "1975\t\"Ted Lewis\"\n",
            "1976\t\"John R. Mick\"\n",
            "1978\t\"Charles S. Wetherell\"\n",
            "1978\t\"James R. McGraw\"\n",
            "1978\t\"Jr.\"\n",
            "1978\t\"Lyle A. Cox\"\n",
            "1982\t\"William J. Tracz\"\n",
            "1985\t\"Rudolph Langer\"\n",
            "1987\t\"John Blaint\"\n",
            "1991\t\"John Etchemendy\"\n",
            "1991\t\"Jon Barwise\"\n",
            "1993\t\"David M. Lane\"\n",
            "1994\t\"Carla Rose\"\n",
            "1994\t\"Gene Orwell\"\n",
            "1994\t\"Wayne L. Winston\"\n",
            "1996\t\"A. Krzyzak\"\n",
            "1996\t\"E. Skubalska-Rafajtowicz\"\n",
            "1996\t\"J. Knipe\"\n",
            "1996\t\"X. Li\"\n",
            "1997\t\"W. E. Clason\"\n",
            "1999\t\"Donald Christiansen\"\n",
            "2000\t\"Ken Abernethy\"\n",
            "2002\t\"Brenden Munnelly\"\n",
            "2002\t\"Paul Holden\"\n",
            "2003\t\"Charles J. Brooks\"\n",
            "2003\t\"John Odam\"\n",
            "2003\t\"Jose Pedro Llamazares\"\n",
            "2003\t\"Michael Cloran\"\n",
            "2004\t\"Andreas N\\u00fcrnberger\"\n",
            "2004\t\"Deborah Timmons\"\n",
            "2004\t\"Denise Seguin\"\n",
            "2004\t\"Derrick Story\"\n",
            "2004\t\"John Preston\"\n",
            "2004\t\"Marcin Detyniecki\"\n",
            "2004\t\"Michael T. Goodrich\"\n",
            "2004\t\"Nita Hewitt Rutkosky\"\n",
            "2004\t\"Sally Preston\"\n",
            "2004\t\"Shelley Gaskin\"\n",
            "2004\t\"Tom Collins\"\n",
            "2005\t\"Alice Redmond-neal\"\n",
            "2005\t\"Axel Bucker\"\n",
            "2005\t\"Carlito Vicencio\"\n",
            "2005\t\"Celso H. Poderoso de Oliveira\"\n",
            "2005\t\"Dan Irish\"\n",
            "2005\t\"Darrel Creacy\"\n",
            "2005\t\"David A. Marca\"\n",
            "2005\t\"David Cope\"\n",
            "2005\t\"Dean Bagley\"\n",
            "2005\t\"Eric Grebler\"\n",
            "2005\t\"Jeff Kent\"\n",
            "2005\t\"Marjorie M. K. Hlava\"\n",
            "2005\t\"Michael Smick\"\n",
            "2005\t\"Nightow Yoshiro\"\n",
            "2005\t\"Pamela W. Adams\"\n",
            "2006\t\"Alexander Gelbukh\"\n",
            "2006\t\"Amitabh Chaudhary\"\n",
            "2006\t\"Amitabha Bagchi\"\n",
            "2006\t\"Anita Kesavan\"\n",
            "2006\t\"Ankur Bhargava\"\n",
            "2006\t\"Arthur Greef\"\n",
            "2006\t\"Barry Smyth\"\n",
            "2006\t\"Bart Preneel\"\n",
            "2006\t\"Ben Long\"\n",
            "2006\t\"Carlos Alberto Reyes-Garcia\"\n",
            "2006\t\"Catholijn M. Jonker\"\n",
            "2006\t\"Cay S. Horstmann\"\n",
            "2006\t\"Cheng-Lin Liu\"\n",
            "2006\t\"Christian Scheideler\"\n",
            "2006\t\"Constantine Caramanis\"\n",
            "2006\t\"Daeyeol Lee\"\n",
            "2006\t\"Damian Hodgson\"\n",
            "2006\t\"Damien Stolarz\"\n",
            "2006\t\"Dan Oja\"\n",
            "2006\t\"David Eppstein\"\n",
            "2006\t\"David J. Horntrop\"\n",
            "2006\t\"Dongming Wang\"\n",
            "2006\t\"Donna Ulmer\"\n",
            "2006\t\"Gideon Kunda\"\n",
            "2006\t\"Hans J. Skovgaard\"\n",
            "2006\t\"Helen Ashman\"\n",
            "2006\t\"Hernan P. Awad\"\n",
            "2006\t\"Hiroshi Sako\"\n",
            "2006\t\"Hoon Hong\"\n",
            "2006\t\"Ian David Aronson\"\n",
            "2006\t\"Jan Treur\"\n",
            "2006\t\"Jason Eckert\"\n",
            "2006\t\"Jeong-woo Sohn\"\n",
            "2006\t\"John Copas\"\n",
            "2006\t\"John Maeda\"\n",
            "2006\t\"June Jamrich Parsons\"\n",
            "2006\t\"Lars Dragheim Olsen\"\n",
            "2006\t\"Lee Humphreys\"\n",
            "2006\t\"Lionel Felix\"\n",
            "2006\t\"Michael Fruergaard Pontoppidan\"\n",
            "2006\t\"Michael Rosenblum\"\n",
            "2006\t\"Michel X. Goemans\"\n",
            "2006\t\"Neil Daswani\"\n",
            "2006\t\"Palle Agermark\"\n",
            "2006\t\"Paul Messaris\"\n",
            "2006\t\"Peter W. Glynn\"\n",
            "2006\t\"Red Burns\"\n",
            "2006\t\"Ron Dulin\"\n",
            "2006\t\"Shinto Eguchi\"\n",
            "2006\t\"Stephen R. Barley\"\n",
            "2006\t\"Steve Holzner\"\n",
            "2006\t\"Svetlana Cicmil\"\n",
            "2006\t\"Tibor Bosse\"\n",
            "2006\t\"Torsten Suel\"\n",
            "2006\t\"Vahid Tarokh\"\n",
            "2006\t\"Vincent Wade\"\n",
            "2006\t\"Woody Leonhard\"\n",
            "2006\t\"Xiaohui Long\"\n",
            "2007\t\"Ahmed Hassan\"\n",
            "2007\t\"Allan Hunkin\"\n",
            "2007\t\"Amir Ahmad\"\n",
            "2007\t\"Cay S. Horstmann\"\n",
            "2007\t\"Charles J. Brooks\"\n",
            "2007\t\"Clemens Gr\\u00f6pl\"\n",
            "2007\t\"Eva Lange\"\n",
            "2007\t\"Jake Chen\"\n",
            "2007\t\"Knut Reinert\"\n",
            "2007\t\"Korinna Patelis\"\n",
            "2007\t\"Lipika Dey\"\n",
            "2007\t\"Marc Sturm\"\n",
            "2007\t\"Michael Schrenk\"\n",
            "2007\t\"Michael Shrenk\"\n",
            "2007\t\"Nico Pfeifer\"\n",
            "2007\t\"Ole Schulz-Trieglaff\"\n",
            "2007\t\"Oliver Kohlbacher\"\n",
            "2007\t\"Parminder Flora\"\n",
            "2007\t\"R. Kelly Rainer\"\n",
            "2007\t\"Zongmin Ma\"\n",
            "null\t\"Alessandro Aurigi\"\n",
            "null\t\"Alex Galis\"\n",
            "null\t\"Aline Maria Santos Andrade\"\n",
            "null\t\"Arto Tapani Juhola\"\n",
            "null\t\"Behrouz A. Forouzan\"\n",
            "null\t\"Carlos Alberto Maziero\"\n",
            "null\t\"Danny Raz\"\n",
            "null\t\"Dima Sonkin\"\n",
            "null\t\"Fenghui Zhang\"\n",
            "null\t\"Fl\\u00e1vio Morais de Assis Silva\"\n",
            "null\t\"Howard A. Anton\"\n",
            "null\t\"Jianer Chen\"\n",
            "null\t\"Jo\\u00e3o Gabriel Silva\"\n",
            "null\t\"Joan Serrat-Fernandez\"\n",
            "null\t\"Jocelyn Robert\"\n",
            "null\t\"Kami LeMonds\"\n",
            "null\t\"Michael Raheem\"\n",
            "null\t\"Nolan Hester\"\n",
            "null\t\"Thierry D'Hers\"\n",
            "\n"
          ]
        }
      ],
      "source": [
        "print('Output of job 6 : \\n')\n",
        "read_file('out6.txt')"
      ]
    },
    {
      "cell_type": "markdown",
      "metadata": {},
      "source": [
        "7. Find the title of papers such that their venue is not mentioned in the input file."
      ]
    },
    {
      "cell_type": "code",
      "execution_count": 35,
      "metadata": {
        "colab": {
          "base_uri": "https://localhost:8080/"
        },
        "id": "DZtM55zI6qXG",
        "outputId": "fb8b35e8-9976-4cec-f50a-129a0940394a"
      },
      "outputs": [
        {
          "name": "stdout",
          "output_type": "stream",
          "text": [
            "Writing rc7.py\n"
          ]
        }
      ],
      "source": [
        "%%file rc7.py\n",
        "from mrjob.job import MRJob\n",
        "from mrjob.step import MRStep\n",
        "\n",
        "class MRJob_assignment7(MRJob):\n",
        "\n",
        "    def mapper(self, _, data):\n",
        "        records = data.split('#')\n",
        "        paper_info = {'title': None, 'authors': None, 'year': None, 'venue': None, 'index_id': None}\n",
        "\n",
        "        for record in records:\n",
        "            if record.startswith('*'):\n",
        "                paper_info['title'] = record[1:].strip() if len(record) > 0 else None\n",
        "            elif record.startswith(\"c\"):\n",
        "                paper_info['venue'] = record[1:].strip() if len(record) > 1 else None\n",
        "\n",
        "        if paper_info['venue'] is None and paper_info['title'] is not None:\n",
        "            yield None, paper_info['title']\n",
        "\n",
        "    def reducer(self, _, titles):\n",
        "        title_list = list(titles)\n",
        "        \n",
        "        yield \"Papers with No Venue:\", title_list\n",
        "\n",
        "    def steps(self):\n",
        "        return [\n",
        "            MRStep(\n",
        "                mapper=self.mapper,\n",
        "                reducer=self.reducer\n",
        "            )\n",
        "        ]\n",
        "\n",
        "if __name__ == '__main__':\n",
        "    MRJob_assignment7.run()\n"
      ]
    },
    {
      "cell_type": "code",
      "execution_count": null,
      "metadata": {
        "colab": {
          "base_uri": "https://localhost:8080/"
        },
        "id": "TREzJnwa7It9",
        "outputId": "9fff7deb-03de-49cb-f8c2-4564dac2dd48"
      },
      "outputs": [],
      "source": [
        "!python rc7.py citation.txt > out7.txt"
      ]
    },
    {
      "cell_type": "code",
      "execution_count": 37,
      "metadata": {},
      "outputs": [
        {
          "name": "stdout",
          "output_type": "stream",
          "text": [
            "Output of job 7 : \n",
            "\n",
            "\"Papers with No Venue:\"\t[\"Automated Deduction in Geometry\", \"A+ Certification Core Hardware (Text & Lab Manual)\", \"Performance engineering in industry: current practices and adoption challenges\", \"Dude, You Can Do It! How to Build a Sweeet PC\", \"What Every Programmer Needs to Know about Security (Advances in information Security)\", \"Interpreting Kullback-Leibler divergence with the Neyman-earson lemma\", \"Digital Media: Transformations in Human Communication\", \"TOPP---the OpenMS proteomics pipeline\", \"Type Graphics and MacIntosh\", \"Adaptive Hypermedia and Adaptive Web-Based Systems\", \"Dependable Computing\", \"Calculus Early Transcendentals Single Variable\", \"Webbots, Spiders, and Screen Scrapers\", \"Fast k-NN Classification Rule Using Metrics on Space-Filling Curves\", \"Making the Digital City: The Early Shaping of Urban Internet Space (Design & the Built Environment S.)\", \"Linspire 5.0: The No Nonsense Guide! (No Nonsense Guide! series)\", \"Podcasting for Profit: A Proven 10-Step Plan for Generating Income Through Audio and Video Podcasting\", \"Federated Identity Management And Web Services Security With IBM Tivoli Security Solutions\", \"Start with a Digital Camera (Special Edition) (2nd Edition) (Start with a)\", \"Open Process Frameworks: Patterns for the Adaptive e-Enterprise (Practitioners)\", \"Fast and Efficient Context-Aware Services (Wiley Series on Communications Networking & Distributed Systems)\", \"Multimedia Directory 1997\", \"ASIS&T Thesaurus of Information Science, Technology, And Librarianship (Asist Monograph Series)\", \"On product covering in 3-tier supply chain models: natural complete problems for W[3] and W[4]\", \"Inside SQL Server 2005 Tools (Microsoft Windows Server System Series)\", \"Electronic Engineer's Handbook (Core Handbook CD-ROMs)\", \"Call of Duty 2: Big Red One(tm) Official Strategy Guide (Official Strategy Guides)\", \"Inside Microsoft Dynamics AX 4.0\", \"Wiley Plus/Web CT Stand-alone to accompany Java Concepts (Wiley Plus Products)\", \"Beginning Ruby on Rails (Wrox Beginning Guides)\", \"Introduction to Information Systems\", \"SUSE Linux Enterprise Server Administration (Course 3037)\", \"Hyperstat: Macintosh Hypermedia for Analyzing Data and Learning Statistics\", \"Computer Accounting with QuickBooks 2006\", \"Program Evaluation: Improving The Flow Of Information To The Congress\", \"Jocelyn Robert: Aucune de mes mains ne fait mal\", \"Microprogramming for the hardware engineer\", \"Special Edition Using Adobe Creative Suite 2 (Special Edition Using)\", \"At Ease With Performa\", \"Guia Visual de Microsoft Office 2000/ Microsoft Office 2000 Visual Guide (Guias Visuales)\", \"Microsoft Expression Web: Visual QuickStart Guide\", \"TCP/IP Protocol Suite, 3 edition\", \"Conker's Bad Fur Day (Prima's Official Strategy Guide)\", \"DV Filmmaking: From Start to Finish (O'Reilly Digital Studio)\"]\n",
            "\n"
          ]
        }
      ],
      "source": [
        "print('Output of job 7 : \\n')\n",
        "read_file('out7.txt')"
      ]
    }
  ],
  "metadata": {
    "colab": {
      "provenance": []
    },
    "kernelspec": {
      "display_name": "Python 3",
      "name": "python3"
    },
    "language_info": {
      "codemirror_mode": {
        "name": "ipython",
        "version": 3
      },
      "file_extension": ".py",
      "mimetype": "text/x-python",
      "name": "python",
      "nbconvert_exporter": "python",
      "pygments_lexer": "ipython3",
      "version": "3.11.4"
    }
  },
  "nbformat": 4,
  "nbformat_minor": 0
}
